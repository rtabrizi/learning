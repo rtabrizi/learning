{
 "cells": [
  {
   "cell_type": "code",
   "execution_count": 10,
   "metadata": {},
   "outputs": [],
   "source": [
    "import torch\n",
    "from torch import nn"
   ]
  },
  {
   "cell_type": "code",
   "execution_count": 11,
   "metadata": {},
   "outputs": [],
   "source": [
    "class VAE(nn.Module):\n",
    "    def __init__(self, input_dim=784, h_dim=200, z_dim=20):\n",
    "        super().__init__()\n",
    "        self.img2h = nn.Linear(input_dim, h_dim) # input img --> hidden_dim --> mean, std --> reparameterization trick --> decoder --> output img\n",
    "\n",
    "        # loss pushes these to be a standard Gaussian to ensure that latent space is standard Gaussian, while still using a reconstruction loss\n",
    "        self.h2mu = nn.Linear(h_dim, z_dim) \n",
    "        self.h2sigma = nn.Linear(h_dim, z_dim)\n",
    "\n",
    "        self.z2h = nn.Linear(z_dim, h_dim)\n",
    "        self.h2img = nn.Linear(h_dim, input_dim)\n",
    "\n",
    "        self.relu = nn.ReLU()\n",
    "\n",
    "    \n",
    "    def encode(self, x):\n",
    "        # q_phi(z|x)\n",
    "\n",
    "        h = self.img2h(x)\n",
    "        h = self.relu(h)\n",
    "        mu, sigma = self.h2mu(h), self.h2sigma(h)\n",
    "\n",
    "        return mu, sigma\n",
    "    \n",
    "    def decode(self, z):\n",
    "        # p_theta(x|z)\n",
    "\n",
    "        h = self.relu(self.z2h(z))\n",
    "        x = self.h2img(h)\n",
    "\n",
    "        return torch.sigmoid(x)\n",
    "    \n",
    "    def forward(self, x):\n",
    "        mu, sigma = self.encode(x)\n",
    "        epsilon = torch.randn_like(sigma)\n",
    "        z_reparam = mu + sigma * sigma * epsilon\n",
    "        x = self.decode(z_reparam)\n",
    "\n",
    "        return x, mu, sigma"
   ]
  },
  {
   "cell_type": "code",
   "execution_count": 9,
   "metadata": {},
   "outputs": [
    {
     "name": "stdout",
     "output_type": "stream",
     "text": [
      "torch.Size([4, 784])\n",
      "torch.Size([4, 20])\n",
      "torch.Size([4, 20])\n"
     ]
    }
   ],
   "source": [
    "x = torch.randn(4, 28 * 28) # 28 ** 2 = 784\n",
    "vae = VAE()\n",
    "x_pred, mu, sigma = vae(x)\n",
    "print(x_pred.shape)\n",
    "print(mu.shape)\n",
    "print(sigma.shape)"
   ]
  },
  {
   "cell_type": "code",
   "execution_count": 16,
   "metadata": {},
   "outputs": [],
   "source": [
    "import torch.optim as optim # all optimization algorithms like SGD, Adam\n",
    "import torch.nn.functional as F # all functions that don't have parameters (activation functions, tanh), also included in nn\n",
    "from torch.utils.data import DataLoader \n",
    "import torchvision.datasets as datasets # import pytorch datasets\n",
    "import torchvision.transforms as transforms # transformations on dataset\n",
    "from tqdm import tqdm"
   ]
  },
  {
   "cell_type": "code",
   "execution_count": 13,
   "metadata": {},
   "outputs": [],
   "source": [
    "device = torch.device(\"cuda\" if torch.cuda.is_available() else \"cpu\")\n",
    "input_dim = 784\n",
    "h_dim = 200\n",
    "z_dim = 20\n",
    "num_epochs = 10\n",
    "batch_size = 32\n",
    "lr = 3e-4"
   ]
  },
  {
   "cell_type": "code",
   "execution_count": 19,
   "metadata": {},
   "outputs": [],
   "source": [
    "dataset = datasets.MNIST(root=\"dataset/\", train=True, transform=transforms.ToTensor(), download=True)\n",
    "train_loader = DataLoader(dataset=dataset, batch_size=batch_size, shuffle=True)\n",
    "model = VAE(input_dim=input_dim, h_dim=h_dim, z_dim=z_dim).to(device)\n",
    "optimizer = optim.Adam(model.parameters(), lr=lr)\n",
    "criterion = nn.BCELoss(reduction=\"sum\") # BCE"
   ]
  },
  {
   "cell_type": "code",
   "execution_count": 27,
   "metadata": {},
   "outputs": [
    {
     "name": "stderr",
     "output_type": "stream",
     "text": [
      "0it [00:12, ?it/s]\n",
      "1875it [00:18, 99.83it/s]0:18, ?it/s] \n",
      "Loss: 4617.8198: : 0it [00:18, ?it/s]\n",
      "1875it [00:23, 79.07it/s]\n",
      "Loss: 3796.1245: : 0it [00:23, ?it/s]\n",
      "1875it [00:18, 101.63it/s]:18, ?it/s]\n",
      "Loss: 3972.2190: : 0it [00:18, ?it/s]\n",
      "1875it [00:22, 84.45it/s]\n",
      "Loss: 3706.0361: : 0it [00:22, ?it/s]\n",
      "1875it [00:18, 102.61it/s]:18, ?it/s]\n",
      "Loss: 3937.4780: : 0it [00:18, ?it/s]\n",
      "1875it [00:22, 83.99it/s]\n",
      "Loss: 3704.7131: : 0it [00:22, ?it/s]\n",
      "1875it [00:18, 102.33it/s]:18, ?it/s]\n",
      "Loss: 3455.9973: : 0it [00:18, ?it/s]\n",
      "1875it [00:22, 82.95it/s]\n",
      "Loss: 3312.4927: : 0it [00:22, ?it/s]\n",
      "1875it [00:18, 101.96it/s]:18, ?it/s]\n",
      "Loss: 3530.2710: : 0it [00:18, ?it/s]\n",
      "1875it [00:22, 82.11it/s]\n"
     ]
    }
   ],
   "source": [
    "for epoch in range(num_epochs):\n",
    "    pbar = tqdm(enumerate(train_loader))\n",
    "    for i, (images, _) in tqdm(enumerate(train_loader)):\n",
    "        images = images.to(device).view(batch_size, -1)\n",
    "        preds, mu, sigma = model(images)\n",
    "\n",
    "        reconstruction_loss = criterion(preds, images)\n",
    "        kl_div = torch.sum(1 + torch.log(sigma.pow(2)) - mu.pow(2) - sigma.pow(2))\n",
    "        kl_div = kl_div * -1\n",
    "        loss = kl_div + reconstruction_loss\n",
    "\n",
    "        optimizer.zero_grad()\n",
    "        loss.backward()\n",
    "        optimizer.step()\n",
    "        pbar.set_description(f\"Loss: {loss.item():.4f}\")\n",
    "\n"
   ]
  },
  {
   "cell_type": "code",
   "execution_count": 31,
   "metadata": {},
   "outputs": [],
   "source": [
    "images = []\n",
    "idx = 0\n",
    "for x, y in dataset:\n",
    "    if y == idx:\n",
    "        idx += 1\n",
    "        images.append(x)\n",
    "    if idx == 10:\n",
    "        break"
   ]
  },
  {
   "cell_type": "code",
   "execution_count": 36,
   "metadata": {},
   "outputs": [],
   "source": [
    "def inference(digit, num_examples=1):\n",
    "    mu, sigma = model.encode(images[digit].view(-1, 784))\n",
    "    epsilon = torch.randn_like(sigma)\n",
    "    z = mu + sigma * epsilon\n",
    "    print(z.shape)\n",
    "    out = model.decode(z).view(-1, 1, 28, 28)\n",
    "    matplotlib.imshow(out)\n"
   ]
  },
  {
   "cell_type": "code",
   "execution_count": 42,
   "metadata": {},
   "outputs": [],
   "source": [
    "import matplotlib.pyplot as plt\n",
    "\n",
    "def inference(digit, num_examples=1):\n",
    "    mu, sigma = model.encode(images[digit].view(-1, 784))\n",
    "    epsilon = torch.randn_like(sigma)\n",
    "    z = mu + sigma * epsilon\n",
    "    out = model.decode(z).view(-1, 1, 28, 28)\n",
    "\n",
    "    plt.imshow(out[0].detach().cpu().numpy().reshape(28, 28), cmap='gray')\n",
    "    plt.title(f\"Generated Digit: {digit}\")\n",
    "    plt.show()\n"
   ]
  },
  {
   "cell_type": "code",
   "execution_count": 43,
   "metadata": {},
   "outputs": [
    {
     "data": {
      "image/png": "[encoded data removed]",
      "text/plain": [
       "<Figure size 640x480 with 1 Axes>"
      ]
     },
     "metadata": {},
     "output_type": "display_data"
    }
   ],
   "source": [
    "inference(1)"
   ]
  },
  {
   "cell_type": "code",
   "execution_count": null,
   "metadata": {},
   "outputs": [],
   "source": []
  }
 ],
 "metadata": {
  "kernelspec": {
   "display_name": "learning",
   "language": "python",
   "name": "python3"
  },
  "language_info": {
   "codemirror_mode": {
    "name": "ipython",
    "version": 3
   },
   "file_extension": ".py",
   "mimetype": "text/x-python",
   "name": "python",
   "nbconvert_exporter": "python",
   "pygments_lexer": "ipython3",
   "version": "3.8.13"
  }
 },
 "nbformat": 4,
 "nbformat_minor": 2
}
