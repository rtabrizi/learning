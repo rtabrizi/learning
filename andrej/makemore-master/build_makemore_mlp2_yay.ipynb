{
 "cells": [
  {
   "cell_type": "code",
   "execution_count": 1,
   "id": "fbb07a50",
   "metadata": {},
   "outputs": [],
   "source": [
    "import torch\n",
    "import torch.nn.functional as F\n",
    "import matplotlib.pyplot as plt\n",
    "%matplotlib inline"
   ]
  },
  {
   "cell_type": "code",
   "execution_count": 2,
   "id": "0676fbb2",
   "metadata": {},
   "outputs": [],
   "source": [
    "words = open('names.txt', 'r').read().splitlines()"
   ]
  },
  {
   "cell_type": "code",
   "execution_count": 3,
   "id": "0dc1e46a",
   "metadata": {},
   "outputs": [
    {
     "name": "stdout",
     "output_type": "stream",
     "text": [
      "{1: 'a', 2: 'b', 3: 'c', 4: 'd', 5: 'e', 6: 'f', 7: 'g', 8: 'h', 9: 'i', 10: 'j', 11: 'k', 12: 'l', 13: 'm', 14: 'n', 15: 'o', 16: 'p', 17: 'q', 18: 'r', 19: 's', 20: 't', 21: 'u', 22: 'v', 23: 'w', 24: 'x', 25: 'y', 26: 'z', 0: '.'}\n"
     ]
    }
   ],
   "source": [
    "# build vocabulay of characters and mappings to/from integers\n",
    "chars = sorted(list(set(''.join(words))))\n",
    "stoi = {s: i + 1 for i, s in enumerate(chars)}\n",
    "stoi['.']=0\n",
    "itos = {i:s for s, i in stoi.items()}\n",
    "print(itos)\n",
    "vocab_size = len(itos)"
   ]
  },
  {
   "cell_type": "code",
   "execution_count": 4,
   "id": "aa692754",
   "metadata": {},
   "outputs": [],
   "source": [
    "# build the dataset\n",
    "block_size = 3 #how many characters used to predict next one?\n",
    "def build_dataset(data):\n",
    "    \n",
    "    block_size = 3 #how many chars used for prediction\n",
    "    X, Y = [], []\n",
    "    for w in data:\n",
    "        context = [0] * block_size\n",
    "        for ch in w + '.':\n",
    "            ix = stoi[ch]\n",
    "            X.append(context)\n",
    "            Y.append(ix)\n",
    "            context = context[1:] + [ix] # crop and append, rolling window\n",
    "    return torch.tensor(X), torch.tensor(Y)\n",
    "import random\n",
    "random.seed(42)\n",
    "random.shuffle(words)\n",
    "split1 = int(0.8 * len(words))\n",
    "split2 = int(0.9 * len(words))\n",
    "\n",
    "X_train, Y_train = build_dataset(words[:split1])\n",
    "X_val, Y_val = build_dataset(words[split1:split2])\n",
    "X_test, Y_test = build_dataset(words[split2:])\n"
   ]
  },
  {
   "cell_type": "code",
   "execution_count": 5,
   "id": "b2d5be0b",
   "metadata": {},
   "outputs": [
    {
     "name": "stdout",
     "output_type": "stream",
     "text": [
      "12297\n"
     ]
    }
   ],
   "source": [
    "# MLP revisited\n",
    "n_embed = 10 # dimension of embedding space\n",
    "n_hidden = 200\n",
    "\n",
    "g = torch.Generator().manual_seed(2147483647) # why does Andrej like this seed? lol\n",
    "C = torch.randn((vocab_size, n_embed), generator=g) # embedding space of 2 for each of 27 chars\n",
    "W1 = torch.randn((n_embed * block_size, n_hidden), generator=g) * ((5/3) / (30 ** 0.5))\n",
    "b1 = torch.randn(n_hidden, generator=g) * 0.01\n",
    "W2 = torch.randn((n_hidden, vocab_size), generator=g) * 0.01\n",
    "b2 = torch.randn(vocab_size, generator=g) * 0 # 0 vector at initializaiton\n",
    "\n",
    "bngain = torch.ones((1, n_hidden))\n",
    "bnbias = torch.zeros((1, n_hidden))\n",
    "parameters = [C, W1, b1, W2, b2, bngain, bnbias]\n",
    "print(sum(p.nelement() for p in parameters))\n",
    "for p in parameters:\n",
    "    p.requires_grad = True"
   ]
  },
  {
   "cell_type": "code",
   "execution_count": null,
   "id": "d70a9906",
   "metadata": {},
   "outputs": [],
   "source": []
  },
  {
   "cell_type": "code",
   "execution_count": null,
   "id": "91ee071c",
   "metadata": {},
   "outputs": [
    {
     "name": "stderr",
     "output_type": "stream",
     "text": [
      "  0%|                                                                                                 | 3/200000 [00:00<1:51:21, 29.93it/s]"
     ]
    },
    {
     "name": "stdout",
     "output_type": "stream",
     "text": [
      "      0 /  200000: 3.2865\n"
     ]
    },
    {
     "name": "stderr",
     "output_type": "stream",
     "text": [
      "  0%|                                                                                                | 118/200000 [00:00<10:21, 321.45it/s]"
     ]
    }
   ],
   "source": [
    "from tqdm import tqdm\n",
    "max_steps = 200000\n",
    "batch_size = 32\n",
    "lossi = []\n",
    "for i in tqdm(range(max_steps)):    \n",
    "    #minibatch construct\n",
    "    ix = torch.randint(0, X_train.shape[0], (batch_size,))\n",
    "    \n",
    "    # forward pass\n",
    "    emb = C[X_train[ix]]\n",
    "    h_preact = emb.view(emb.shape[0], -1) @ W1 + b1\n",
    "    h_preact = (h_preact - h_preact.mean(0, keepdim=True))/h_preact.std(0, keepdim=True)\n",
    "    h_preact = bngain * h_preact + bnbias\n",
    "    h = torch.tanh(h_preact)\n",
    "    logits = h @ W2 + b2\n",
    "    loss = F.cross_entropy(logits, Y_train[ix]) \n",
    "    # backward pass\n",
    "    for p in parameters:\n",
    "        p.grad = None\n",
    "    loss.backward()\n",
    "    # update\n",
    "    lr = 0.1 if i < 100000 else 0.01\n",
    "    for p in parameters:\n",
    "        p.data += -lr * p.grad\n",
    "    if i % 1000 == 0:\n",
    "        print(f'{i:7d} / {max_steps:7d}: {loss.item():.4f}')\n",
    "    lossi.append(loss.log10().item())\n"
   ]
  },
  {
   "cell_type": "code",
   "execution_count": null,
   "id": "c8760331",
   "metadata": {},
   "outputs": [],
   "source": []
  },
  {
   "cell_type": "code",
   "execution_count": null,
   "id": "0557febb",
   "metadata": {},
   "outputs": [],
   "source": [
    "plt.figure(figsize=(20,10))\n",
    "# white if activation > 0.99\n",
    "# if entire column white, dead neuron\n",
    "plt.imshow(h.abs() > 0.99, cmap='gray', interpolation='nearest')"
   ]
  },
  {
   "cell_type": "code",
   "execution_count": null,
   "id": "dc5dc816",
   "metadata": {},
   "outputs": [],
   "source": [
    "plt.hist(h_preact.view(-1).tolist(),50); # very active tanh"
   ]
  },
  {
   "cell_type": "code",
   "execution_count": null,
   "id": "10f276b2",
   "metadata": {},
   "outputs": [],
   "source": [
    "plt.plot(lossi)"
   ]
  },
  {
   "cell_type": "code",
   "execution_count": null,
   "id": "17080100",
   "metadata": {},
   "outputs": [],
   "source": [
    "# split evaluation\n",
    "@torch.no_grad() # disables gradient tracking\n",
    "def split_loss(split):\n",
    "    x, y = {\n",
    "        'train': (X_train, Y_train),\n",
    "        'val': (X_val, Y_val),\n",
    "        'test': (X_test, Y_test)\n",
    "    }[split]\n",
    "    emb = C[X_val] # (N, block_size, n_embd)\n",
    "    h_preact = emb.view(emb.shape[0], -1) @ W1 + b1\n",
    "    h_preact = (h_preact - h_preact.mean(0, keepdim=True))/h_preact.std(0, keepdim=True)\n",
    "    h_preact = bngain * h_preact + bnbias\n",
    "    h = torch.tanh(h_preact)\n",
    "    logits = h @ W2 + b2 # (N, vocab_size)\n",
    "    loss = F.cross_entropy(logits, Y_val) \n",
    "    print(split, loss.item())    \n",
    "split_loss('train')\n",
    "split_loss('val')"
   ]
  },
  {
   "cell_type": "code",
   "execution_count": null,
   "id": "1c324ac4",
   "metadata": {},
   "outputs": [],
   "source": [
    "# sample from model\n",
    "g = torch.Generator().manual_seed(2147483647 + 10)\n",
    "\n",
    "for _ in range(20):\n",
    "    out = []\n",
    "    context = [0] * block_size\n",
    "    while True:\n",
    "        #forward pass through nn\n",
    "        emb = C[torch.tensor([context])] # (1, block_size, n_embed)\n",
    "        h = torch.tanh(emb.view(1, -1) @ W1 + b1)\n",
    "        logits = h @ W2 + b2\n",
    "        probs = F.softmax(logits, dim=1)\n",
    "        # sample from distribution\n",
    "        ix = torch.multinomial(probs, num_samples=1, generator=g).item()\n",
    "        # shift context window and track samples\n",
    "        context = context[1:] + [ix]\n",
    "        out.append(ix)\n",
    "        if ix == 0:\n",
    "            break\n",
    "            \n",
    "    print(''.join(itos[i] for i in out)) # decode and print word"
   ]
  },
  {
   "cell_type": "code",
   "execution_count": null,
   "id": "20b08c99",
   "metadata": {},
   "outputs": [],
   "source": []
  },
  {
   "cell_type": "code",
   "execution_count": null,
   "id": "3d886e51",
   "metadata": {},
   "outputs": [],
   "source": []
  }
 ],
 "metadata": {
  "kernelspec": {
   "display_name": "Python 3 (ipykernel)",
   "language": "python",
   "name": "python3"
  },
  "language_info": {
   "codemirror_mode": {
    "name": "ipython",
    "version": 3
   },
   "file_extension": ".py",
   "mimetype": "text/x-python",
   "name": "python",
   "nbconvert_exporter": "python",
   "pygments_lexer": "ipython3",
   "version": "3.7.4"
  }
 },
 "nbformat": 4,
 "nbformat_minor": 5
}
