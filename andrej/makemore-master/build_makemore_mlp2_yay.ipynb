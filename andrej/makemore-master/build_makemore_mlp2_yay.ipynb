{
 "cells": [
  {
   "cell_type": "code",
   "execution_count": 9,
   "id": "2b74a9cc",
   "metadata": {},
   "outputs": [],
   "source": [
    "import torch\n",
    "import torch.nn.functional as F\n",
    "import matplotlib.pyplot as plt\n",
    "%matplotlib inline"
   ]
  },
  {
   "cell_type": "code",
   "execution_count": 10,
   "id": "dcabc199",
   "metadata": {},
   "outputs": [],
   "source": [
    "words = open('names.txt', 'r').read().splitlines()"
   ]
  },
  {
   "cell_type": "code",
   "execution_count": 11,
   "id": "16d78622",
   "metadata": {},
   "outputs": [
    {
     "name": "stdout",
     "output_type": "stream",
     "text": [
      "{1: 'a', 2: 'b', 3: 'c', 4: 'd', 5: 'e', 6: 'f', 7: 'g', 8: 'h', 9: 'i', 10: 'j', 11: 'k', 12: 'l', 13: 'm', 14: 'n', 15: 'o', 16: 'p', 17: 'q', 18: 'r', 19: 's', 20: 't', 21: 'u', 22: 'v', 23: 'w', 24: 'x', 25: 'y', 26: 'z', 0: '.'}\n"
     ]
    }
   ],
   "source": [
    "# build vocabulay of characters and mappings to/from integers\n",
    "chars = sorted(list(set(''.join(words))))\n",
    "stoi = {s: i + 1 for i, s in enumerate(chars)}\n",
    "stoi['.']=0\n",
    "itos = {i:s for s, i in stoi.items()}\n",
    "print(itos)\n",
    "vocab_size = len(itos)"
   ]
  },
  {
   "cell_type": "code",
   "execution_count": 12,
   "id": "48253ed8",
   "metadata": {},
   "outputs": [],
   "source": [
    "# build the dataset\n",
    "block_size = 3 #how many characters used to predict next one?\n",
    "def build_dataset(data):\n",
    "    \n",
    "    block_size = 3 #how many chars used for prediction\n",
    "    X, Y = [], []\n",
    "    for w in data:\n",
    "        context = [0] * block_size\n",
    "        for ch in w + '.':\n",
    "            ix = stoi[ch]\n",
    "            X.append(context)\n",
    "            Y.append(ix)\n",
    "            context = context[1:] + [ix] # crop and append, rolling window\n",
    "    return torch.tensor(X), torch.tensor(Y)\n",
    "import random\n",
    "random.seed(42)\n",
    "random.shuffle(words)\n",
    "split1 = int(0.8 * len(words))\n",
    "split2 = int(0.9 * len(words))\n",
    "\n",
    "X_train, Y_train = build_dataset(words[:split1])\n",
    "X_val, Y_val = build_dataset(words[split1:split2])\n",
    "X_test, Y_test = build_dataset(words[split2:])\n"
   ]
  },
  {
   "cell_type": "code",
   "execution_count": 31,
   "id": "9f1207c2",
   "metadata": {},
   "outputs": [
    {
     "name": "stdout",
     "output_type": "stream",
     "text": [
      "11897\n"
     ]
    }
   ],
   "source": [
    "# MLP revisited\n",
    "n_embed = 10 # dimension of embedding space\n",
    "n_hidden = 200\n",
    "\n",
    "g = torch.Generator().manual_seed(2147483647) # why does Andrej like this seed? lol\n",
    "C = torch.randn((vocab_size, n_embed), generator=g) # embedding space of 2 for each of 27 chars\n",
    "W1 = torch.randn((n_embed * block_size, n_hidden), generator=g)\n",
    "b1 = torch.randn(n_hidden, generator=g)\n",
    "W2 = torch.randn((n_hidden, vocab_size), generator=g) * 0.1\n",
    "b2 = torch.randn(vocab_size, generator=g) * 0 # 0 vector at initializaiton\n",
    "parameters = [C, W1, b1, W2, b2]\n",
    "print(sum(p.nelement() for p in parameters))\n",
    "for p in parameters:\n",
    "    p.requires_grad = True"
   ]
  },
  {
   "cell_type": "code",
   "execution_count": 33,
   "id": "259a2fca",
   "metadata": {},
   "outputs": [
    {
     "name": "stderr",
     "output_type": "stream",
     "text": [
      "  0%|                                                | 0/200000 [00:00<?, ?it/s]"
     ]
    },
    {
     "name": "stdout",
     "output_type": "stream",
     "text": [
      "      0 /  200000: 2.5329\n"
     ]
    },
    {
     "name": "stderr",
     "output_type": "stream",
     "text": [
      "\n"
     ]
    }
   ],
   "source": [
    "from tqdm import tqdm\n",
    "max_steps = 200000\n",
    "batch_size = 32\n",
    "lossi = []\n",
    "for i in tqdm(range(max_steps)):    \n",
    "    #minibatch construct\n",
    "    ix = torch.randint(0, X_train.shape[0], (batch_size,))\n",
    "    \n",
    "    # forward pass\n",
    "    emb = C[X_train[ix]]\n",
    "    h = torch.tanh(emb.view(emb.shape[0], -1) @ W1 + b1)\n",
    "    logits = h @ W2 + b2\n",
    "    loss = F.cross_entropy(logits, Y_train[ix]) \n",
    "    # print(loss.item())    \n",
    "    # backward pass\n",
    "    for p in parameters:\n",
    "        p.grad = None\n",
    "    loss.backward()\n",
    "    # update\n",
    "    lr = 0.1 if i < 100000 else 0.01\n",
    "    for p in parameters:\n",
    "        p.data += -lr * p.grad\n",
    "    if i % 1000 == 0:\n",
    "        print(f'{i:7d} / {max_steps:7d}: {loss.item():.4f}')\n",
    "    lossi.append(loss.log10().item())\n",
    "    break"
   ]
  },
  {
   "cell_type": "code",
   "execution_count": 37,
   "id": "32324b05",
   "metadata": {},
   "outputs": [
    {
     "data": {
      "image/png": "[encoded data removed]",
      "text/plain": [
       "<Figure size 432x288 with 1 Axes>"
      ]
     },
     "metadata": {
      "needs_background": "light"
     },
     "output_type": "display_data"
    }
   ],
   "source": [
    "plt.hist(.view(-1).tolist(),50); # very active tanh"
   ]
  },
  {
   "cell_type": "code",
   "execution_count": 22,
   "id": "bdacd5ce",
   "metadata": {},
   "outputs": [
    {
     "data": {
      "text/plain": [
       "[<matplotlib.lines.Line2D at 0x7fbe32b65350>]"
      ]
     },
     "execution_count": 22,
     "metadata": {},
     "output_type": "execute_result"
    },
    {
     "data": {
      "image/png": "[encoded data removed]",
      "text/plain": [
       "<Figure size 432x288 with 1 Axes>"
      ]
     },
     "metadata": {
      "needs_background": "light"
     },
     "output_type": "display_data"
    }
   ],
   "source": [
    "plt.plot(lossi)"
   ]
  },
  {
   "cell_type": "code",
   "execution_count": 23,
   "id": "6860150a",
   "metadata": {},
   "outputs": [
    {
     "name": "stdout",
     "output_type": "stream",
     "text": [
      "train 2.1719658374786377\n",
      "val 2.1719658374786377\n"
     ]
    }
   ],
   "source": [
    "# split evaluation\n",
    "@torch.no_grad() # disables gradient tracking\n",
    "def split_loss(split):\n",
    "    x, y = {\n",
    "        'train': (X_train, Y_train),\n",
    "        'val': (X_val, Y_val),\n",
    "        'test': (X_test, Y_test)\n",
    "    }[split]\n",
    "    emb = C[X_val] # (N, block_size, n_embd)\n",
    "    emb_cat = emb.view(emb.shape[0], -1) # (N, block_size * n_embd)\n",
    "    h = torch.tanh(emb_cat @ W1 + b1) # (N, n_hidden)\n",
    "    logits = h @ W2 + b2 # (N, vocab_size)\n",
    "    loss = F.cross_entropy(logits, Y_val) \n",
    "    print(split, loss.item())    \n",
    "split_loss('train')\n",
    "split_loss('val')"
   ]
  },
  {
   "cell_type": "code",
   "execution_count": 27,
   "id": "1dcfe67d",
   "metadata": {},
   "outputs": [
    {
     "name": "stdout",
     "output_type": "stream",
     "text": [
      "carlah.\n",
      "aal.\n",
      "havi.\n",
      "kimri.\n",
      "reviy.\n",
      "halayan.\n",
      "jazhuen.\n",
      "delyah.\n",
      "jareen.\n",
      "nermara.\n",
      "chaiivia.\n",
      "leigh.\n",
      "ham.\n",
      "jorn.\n",
      "quint.\n",
      "shous.\n",
      "alian.\n",
      "quinathonderryn.\n",
      "karmekailyan.\n",
      "edalaiia.\n"
     ]
    }
   ],
   "source": [
    "# sample from model\n",
    "g = torch.Generator().manual_seed(2147483647 + 10)\n",
    "\n",
    "for _ in range(20):\n",
    "    out = []\n",
    "    context = [0] * block_size\n",
    "    while True:\n",
    "        #forward pass through nn\n",
    "        emb = C[torch.tensor([context])] # (1, block_size, n_embed)\n",
    "        h = torch.tanh(emb.view(1, -1) @ W1 + b1)\n",
    "        logits = h @ W2 + b2\n",
    "        probs = F.softmax(logits, dim=1)\n",
    "        # sample from distribution\n",
    "        ix = torch.multinomial(probs, num_samples=1, generator=g).item()\n",
    "        # shift context window and track samples\n",
    "        context = context[1:] + [ix]\n",
    "        out.append(ix)\n",
    "        if ix == 0:\n",
    "            break\n",
    "            \n",
    "    print(''.join(itos[i] for i in out)) # decode and print word"
   ]
  },
  {
   "cell_type": "code",
   "execution_count": null,
   "id": "cd5755ea",
   "metadata": {},
   "outputs": [],
   "source": []
  },
  {
   "cell_type": "code",
   "execution_count": null,
   "id": "d7f03fde",
   "metadata": {},
   "outputs": [],
   "source": []
  }
 ],
 "metadata": {
  "kernelspec": {
   "display_name": "Python 3 (ipykernel)",
   "language": "python",
   "name": "python3"
  },
  "language_info": {
   "codemirror_mode": {
    "name": "ipython",
    "version": 3
   },
   "file_extension": ".py",
   "mimetype": "text/x-python",
   "name": "python",
   "nbconvert_exporter": "python",
   "pygments_lexer": "ipython3",
   "version": "3.7.4"
  }
 },
 "nbformat": 4,
 "nbformat_minor": 5
}
